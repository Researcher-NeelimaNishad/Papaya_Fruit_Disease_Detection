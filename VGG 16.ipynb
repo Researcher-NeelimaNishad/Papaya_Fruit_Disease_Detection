{
 "cells": [
  {
   "cell_type": "code",
   "execution_count": 1,
   "id": "d478e37f",
   "metadata": {},
   "outputs": [],
   "source": [
    "# imports\n",
    "\n",
    "import numpy as np\n",
    "from PIL import Image\n",
    "import os\n",
    "\n",
    "from tensorflow.keras.layers import Dense\n",
    "from tensorflow.keras.models import Sequential\n",
    "from tensorflow.keras.preprocessing.image import ImageDataGenerator\n",
    "from tensorflow.keras.applications.vgg16 import preprocess_input\n",
    "from tensorflow.keras.applications import VGG16\n",
    "from keras.layers import Conv2D, MaxPooling2D"
   ]
  },
  {
   "cell_type": "code",
   "execution_count": 2,
   "id": "04ed36a6",
   "metadata": {},
   "outputs": [],
   "source": [
    "# Create Generator\n",
    "\n",
    "image_generator = ImageDataGenerator(preprocessing_function = preprocess_input)"
   ]
  },
  {
   "cell_type": "code",
   "execution_count": 3,
   "id": "e1e5448f",
   "metadata": {},
   "outputs": [
    {
     "name": "stdout",
     "output_type": "stream",
     "text": [
      "Found 43567 images belonging to 5 classes.\n",
      "Found 10898 images belonging to 5 classes.\n"
     ]
    }
   ],
   "source": [
    "# Create Data Loaders\n",
    "train_loader = image_generator.flow_from_directory(\n",
    "        directory = \"Untouch_DataSet_1/Processed_Dataset/train\",\n",
    "        target_size =(224,224),\n",
    "        batch_size = 32,\n",
    "        shuffle = True\n",
    ")\n",
    "\n",
    "test_loader = image_generator.flow_from_directory(\n",
    "        directory = \"Untouch_DataSet_1/Processed_Dataset/test\",\n",
    "        target_size =(224,224),\n",
    "        batch_size = 32,\n",
    "        shuffle = True\n",
    ")"
   ]
  },
  {
   "cell_type": "code",
   "execution_count": 4,
   "id": "978a4675",
   "metadata": {},
   "outputs": [
    {
     "data": {
      "text/plain": [
       "{'anthracnose_1': 0,\n",
       " 'black_spot_1': 1,\n",
       " 'phytophthora_1': 2,\n",
       " 'powdery_mildew_1': 3,\n",
       " 'ring_spot_1': 4}"
      ]
     },
     "execution_count": 4,
     "metadata": {},
     "output_type": "execute_result"
    }
   ],
   "source": [
    "train_loader.class_indices"
   ]
  },
  {
   "cell_type": "code",
   "execution_count": 5,
   "id": "b0a209a7",
   "metadata": {},
   "outputs": [
    {
     "data": {
      "text/plain": [
       "{0: 'anthracnose_1',\n",
       " 1: 'black_spot_1',\n",
       " 2: 'phytophthora_1',\n",
       " 3: 'powdery_mildew_1',\n",
       " 4: 'ring_spot_1'}"
      ]
     },
     "execution_count": 5,
     "metadata": {},
     "output_type": "execute_result"
    }
   ],
   "source": [
    "idx_to_class = {val:key for key, val in dict(train_loader.class_indices).items()}\n",
    "idx_to_class"
   ]
  },
  {
   "cell_type": "code",
   "execution_count": 6,
   "id": "de87f36c",
   "metadata": {},
   "outputs": [],
   "source": [
    "# define Model\n",
    "\n",
    "model = Sequential()\n",
    "model.add(VGG16(include_top = False, pooling =\"avg\"))\n",
    "model.add(Dense(5, activation = \"softmax\"))"
   ]
  },
  {
   "cell_type": "code",
   "execution_count": 7,
   "id": "3cfde1cb",
   "metadata": {},
   "outputs": [],
   "source": [
    "model.layers[0].trainable = False"
   ]
  },
  {
   "cell_type": "code",
   "execution_count": 8,
   "id": "e1ee2558",
   "metadata": {},
   "outputs": [],
   "source": [
    "# train and Test Step\n",
    "batch_size = 32\n",
    "steps_train = len(train_loader)\n",
    "steps_test = len(test_loader)"
   ]
  },
  {
   "cell_type": "code",
   "execution_count": 9,
   "id": "14e48349",
   "metadata": {},
   "outputs": [],
   "source": [
    "model.compile(optimizer = \"adam\", loss = \"categorical_crossentropy\", metrics=[\"accuracy\"])"
   ]
  },
  {
   "cell_type": "code",
   "execution_count": 10,
   "id": "5c4d33d2",
   "metadata": {},
   "outputs": [
    {
     "name": "stdout",
     "output_type": "stream",
     "text": [
      "Model: \"sequential\"\n",
      "_________________________________________________________________\n",
      " Layer (type)                Output Shape              Param #   \n",
      "=================================================================\n",
      " vgg16 (Functional)          (None, 512)               14714688  \n",
      "                                                                 \n",
      " dense (Dense)               (None, 5)                 2565      \n",
      "                                                                 \n",
      "=================================================================\n",
      "Total params: 14,717,253\n",
      "Trainable params: 2,565\n",
      "Non-trainable params: 14,714,688\n",
      "_________________________________________________________________\n"
     ]
    }
   ],
   "source": [
    "model.summary()"
   ]
  },
  {
   "cell_type": "code",
   "execution_count": null,
   "id": "e7adb832",
   "metadata": {},
   "outputs": [
    {
     "name": "stdout",
     "output_type": "stream",
     "text": [
      "Epoch 1/5\n",
      "1362/1362 [==============================] - 7291s 5s/step - loss: 0.2185 - accuracy: 0.9422\n",
      "Epoch 2/5\n",
      "1362/1362 [==============================] - 7894s 6s/step - loss: 0.0117 - accuracy: 0.9974\n",
      "Epoch 3/5\n",
      "1051/1362 [======================>.......] - ETA: 27:53 - loss: 0.0056 - accuracy: 0.9989"
     ]
    }
   ],
   "source": [
    "#VGG16\n",
    "history = model.fit(\n",
    "    train_loader,\n",
    "    epochs = 5\n",
    ")"
   ]
  },
  {
   "cell_type": "code",
   "execution_count": null,
   "id": "0012b5be",
   "metadata": {},
   "outputs": [],
   "source": [
    "test_loss,test_acc = model.evaluate(test_loader, verbose=2)\n",
    "print('\\Test Accuracy : ', test_acc)"
   ]
  },
  {
   "cell_type": "code",
   "execution_count": null,
   "id": "7afaf488",
   "metadata": {},
   "outputs": [],
   "source": [
    "import matplotlib.pyplot as plt\n",
    "import numpy as np\n",
    "\n",
    "# plot the accuracy\n",
    "plt.plot(history.history['accuracy'], label='train acc')\n",
    "plt.legend()\n",
    "plt.show()\n",
    "plt.savefig('AccVal_acc')"
   ]
  },
  {
   "cell_type": "code",
   "execution_count": null,
   "id": "ebb90173",
   "metadata": {},
   "outputs": [],
   "source": [
    "# plot the accuracy\n",
    "plt.plot(history.history['loss'], label='Loss')\n",
    "plt.legend()\n",
    "plt.show()\n",
    "plt.savefig('Loss Acc')"
   ]
  },
  {
   "cell_type": "code",
   "execution_count": null,
   "id": "2364cc38",
   "metadata": {},
   "outputs": [],
   "source": [
    "model.save('Untouch_DataSet_1\\Saved_model1\\VGG16_PD_Apr09.h5')"
   ]
  },
  {
   "cell_type": "code",
   "execution_count": null,
   "id": "39d9d10e",
   "metadata": {},
   "outputs": [],
   "source": [
    "from sklearn.metrics import classification_report\n",
    "\n",
    "Y_pred = model.predict(train_loader)\n",
    "y_pred = np.argmax(Y_pred, axis=1)\n",
    "\n",
    "print(classification_report(train_loader.classes, y_pred))"
   ]
  }
 ],
 "metadata": {
  "kernelspec": {
   "display_name": "Python 3 (ipykernel)",
   "language": "python",
   "name": "python3"
  },
  "language_info": {
   "codemirror_mode": {
    "name": "ipython",
    "version": 3
   },
   "file_extension": ".py",
   "mimetype": "text/x-python",
   "name": "python",
   "nbconvert_exporter": "python",
   "pygments_lexer": "ipython3",
   "version": "3.9.13"
  }
 },
 "nbformat": 4,
 "nbformat_minor": 5
}
